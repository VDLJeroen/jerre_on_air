{
 "cells": [
  {
   "cell_type": "markdown",
   "metadata": {},
   "source": [
    "# Jerre on Air\n",
    "This website will help you get hyped up for the upcomming punkrock festival Jera on Air in the Netherlands.\\\n",
    "You can listen and rate to songs of the artists that are coming to the festival."
   ]
  },
  {
   "cell_type": "markdown",
   "metadata": {},
   "source": [
    "## Filling up the database\n",
    "The following notebook is needed to fill up the database with artists and their songs.\\\n",
    "It will scrape the artists from the website of the festival.\\\n",
    "With the names of artists it will call the youtube API to gather the songs."
   ]
  },
  {
   "cell_type": "markdown",
   "metadata": {},
   "source": [
    "## Setup\n",
    "### Required packages\n",
    "These are the required python packages that needs to be installed.\n",
    "```\n",
    "pip install google-api-python-client\n",
    "pip install isodate\n",
    "pip install Django\n",
    "```\n",
    "### Google API key\n",
    "As a setup you will need to register een application on google to have an API key to call the youtube API.\\\n",
    "[Setup an account and application.](https://console.cloud.google.com/apis/dashboard)\n",
    "In the credentials section make an API key.\\\n",
    "Enable the 'YouTube Data API v3' in API & services section.\n",
    "\n",
    "Enter the API key in the following section."
   ]
  },
  {
   "cell_type": "code",
   "execution_count": null,
   "metadata": {},
   "outputs": [],
   "source": [
    "# Youtube API key\n",
    "DEVELOPER_KEY = \"YOUR_API_KEY\""
   ]
  },
  {
   "cell_type": "code",
   "execution_count": null,
   "metadata": {},
   "outputs": [],
   "source": [
    "import googleapiclient.discovery\n",
    "import googleapiclient.errors\n",
    "import requests\n",
    "import re\n",
    "import isodate\n",
    "\n",
    "# Youtube API information\n",
    "api_service_name = \"youtube\"\n",
    "api_version = \"v3\"\n",
    "\n",
    "# API client\n",
    "youtube = googleapiclient.discovery.build(\n",
    "    api_service_name, api_version, developerKey = DEVELOPER_KEY)"
   ]
  },
  {
   "cell_type": "markdown",
   "metadata": {},
   "source": [
    "## Setup the database\n",
    "There is a django backend that stores the artists, songs and rating you give locally.\\\n",
    "In the following section you have the urls and ways to put things in the database.\\\n",
    "When using another backend or url, you can adjust it here.\n",
    "\n",
    "To go further you need to setup the database and run the backend server.\n",
    "```\n",
    "python ./backend/manage.py migrate\n",
    "python ./backend/manage.py runserver\n",
    "```"
   ]
  },
  {
   "cell_type": "code",
   "execution_count": null,
   "metadata": {},
   "outputs": [],
   "source": [
    "song_url = \"http://localhost:8000/api/songs/\"\n",
    "artist_url = \"http://localhost:8000/api/artists/\"\n",
    "\n",
    "def put_artist_in_database(name, pic):\n",
    "    body = {\n",
    "        \"name\": name,\n",
    "        \"picture\": pic\n",
    "    }\n",
    "    requests.post(artist_url, data = body)\n",
    "\n",
    "def put_song_in_database(id, name, views, artist_id):\n",
    "    print(name + \" (\" + views + \") --> \" + id)\n",
    "    \n",
    "    body = {\n",
    "            \"title\": name,\n",
    "            \"link\": id,\n",
    "            \"views\": views,\n",
    "            \"artist\": artist_id\n",
    "        }\n",
    "    requests.post(song_url, data = body)\n",
    "\n",
    "def get_artists():\n",
    "    return requests.get(artist_url).json()"
   ]
  },
  {
   "cell_type": "markdown",
   "metadata": {},
   "source": [
    "## Gather the artist\n",
    "In this section we will gather the artists from the festival website.\\\n",
    "Here we use BeautifulSoup to grab the artists in the html of the website.\\\n",
    "Then we put the artist with its picture in our local database.\n",
    "\n",
    "Chnage this if you want to gather artists from another source."
   ]
  },
  {
   "cell_type": "code",
   "execution_count": null,
   "metadata": {},
   "outputs": [],
   "source": [
    "from bs4 import BeautifulSoup\n",
    "\n",
    "jera_on_air = \"https://www.jeraonair.nl/nl/line-up\"\n",
    "page = requests.get(jera_on_air)\n",
    "\n",
    "soup = BeautifulSoup(page.content, \"html.parser\")\n",
    "line_up = soup.find(id=\"line-up\")\n",
    "artists = line_up.find_all(\"div\", class_=\"item\")\n",
    "\n",
    "for artist in artists:\n",
    "    pic = \"https://www.jeraonair.nl\" + artist.find(\"img\")[\"src\"]\n",
    "    name = artist.find(\"span\", class_=\"bandname\").text\n",
    "    put_artist_in_database(name, pic)"
   ]
  },
  {
   "cell_type": "markdown",
   "metadata": {},
   "source": [
    "## Gather the songs\n",
    "Here we gather some songs of the artists.\\\n",
    "We will search youtube with the name of the artist and take the first 10 items.\n",
    "\n",
    "The implementation is easy and can be improved.\\\n",
    "What goes wrong is some artists their name are ambiguous and can be interpreted as something else.\\\n",
    "So this can gather unrelated youtube videos.\\\n",
    "Therefore the application has a *Delete* button for these cases."
   ]
  },
  {
   "cell_type": "code",
   "execution_count": null,
   "metadata": {},
   "outputs": [],
   "source": [
    "def search_youtube(query, amount=10):\n",
    "    request = youtube.search().list(\n",
    "        part=\"snippet\",\n",
    "        q=query,\n",
    "        maxResults = amount,\n",
    "        # order = \"viewCount\",\n",
    "        type = \"video\",\n",
    "        \n",
    "    )\n",
    "    return request.execute()[\"items\"]\n",
    "\n",
    "def search_video_ids(artist, amount=10):\n",
    "    videos = search_youtube(artist, amount)\n",
    "    return list(map(lambda x: x[\"id\"][\"videoId\"], videos))\n",
    "    \n",
    "def clean_title(title, artist):\n",
    "    artist_pattern = re.compile(artist, re.IGNORECASE)\n",
    "    value = artist_pattern.sub(\"\", title)\n",
    "    value = value.replace(artist, \"\")\n",
    "    value = value.replace(\"-\", \"\")\n",
    "    value = re.sub(\"\\(.*?\\)\",\"\", value)\n",
    "    value = value.strip()\n",
    "    return value\n",
    "\n",
    "def video_details(ids):\n",
    "    request = youtube.videos().list(\n",
    "        part=\"id, snippet, statistics, contentDetails\",\n",
    "        id=ids\n",
    "    )\n",
    "    return request.execute()[\"items\"]\n",
    "\n",
    "    \n",
    "def video_not_too_long(item):\n",
    "    duration_value = item[\"contentDetails\"][\"duration\"]\n",
    "    minutes = isodate.parse_duration(duration_value).total_seconds() / 60\n",
    "    return minutes < 10\n",
    "\n",
    "def put_songs_in_database_for_artist(artist_id, artist, amount=10):\n",
    "    ids = search_video_ids(artist, amount)\n",
    "    items = video_details(ids)\n",
    "    songs = filter(video_not_too_long, items)\n",
    "    for song in songs:\n",
    "        title = song[\"snippet\"][\"title\"]\n",
    "        name = clean_title(title, artist)\n",
    "        id = song[\"id\"]\n",
    "        views = song[\"statistics\"][\"viewCount\"]\n",
    "        put_song_in_database(id, name, views, artist_id)\n",
    "\n",
    "def fill_database_with_songs(songs_per_artist=10):\n",
    "    artists = get_artists()\n",
    "    for artist in artists:\n",
    "        print(artist[\"name\"])\n",
    "        put_songs_in_database_for_artist(artist[\"id\"], artist[\"name\"], songs_per_artist)"
   ]
  },
  {
   "cell_type": "markdown",
   "metadata": {},
   "source": [
    "## Fill it up!\n",
    "You can indicate here how many songs it will search per artist.\\\n",
    "The amount put into the database can deviate because if the video is longer than 10 minutes, it will not be seen as a song and be ignored.\n",
    "\n",
    "**Attention!** This will take some time. Dependent on how many songs you choose."
   ]
  },
  {
   "cell_type": "code",
   "execution_count": null,
   "metadata": {},
   "outputs": [],
   "source": [
    "fill_database_with_songs(10)"
   ]
  }
 ],
 "metadata": {
  "interpreter": {
   "hash": "3c6d347ae46e0fed0ba48afd7a30b8a07d8da3c45d0613580e07665ad273a8b2"
  },
  "kernelspec": {
   "display_name": "Python 3.7.9 ('Trading')",
   "language": "python",
   "name": "python3"
  },
  "language_info": {
   "codemirror_mode": {
    "name": "ipython",
    "version": 3
   },
   "file_extension": ".py",
   "mimetype": "text/x-python",
   "name": "python",
   "nbconvert_exporter": "python",
   "pygments_lexer": "ipython3",
   "version": "3.7.9"
  }
 },
 "nbformat": 4,
 "nbformat_minor": 2
}
